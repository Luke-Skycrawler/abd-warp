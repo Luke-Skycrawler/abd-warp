{
 "cells": [
  {
   "cell_type": "code",
   "execution_count": 3,
   "metadata": {},
   "outputs": [
    {
     "name": "stdout",
     "output_type": "stream",
     "text": [
      "Module __main__ load on device 'cuda:0' took 21.85 ms\n"
     ]
    }
   ],
   "source": [
    "import warp as wp\n",
    "import numpy as np\n",
    "\n",
    "wp.init()\n",
    "\n",
    "@wp.kernel\n",
    "def test(A: wp.mat33, x: wp.vec3, y: wp.array(dtype = wp.vec3)):\n",
    "    y[0] = A @ x\n",
    "    A[0, 1] = 1.0\n",
    "    y[1] = A[0]\n",
    "y = wp.zeros(2, dtype = wp.vec3)\n",
    "\n",
    "A = wp.zeros(1, dtype = wp.mat33)\n",
    "\n",
    "@wp.kernel\n",
    "def t2(A: wp.array(dtype = wp.mat33)):\n",
    "    A[0] = wp.outer(wp.vec3(1.0), wp.vec3(1.0, 2.0, 3.0))\n",
    "\n",
    "\n",
    "# wp.launch(test, (1), inputs = [wp.diag(wp.vec3(1.0)), wp.vec3(1.0, 1.0, 1.0), y])\n",
    "wp.launch(t2, 1, inputs = [A])"
   ]
  },
  {
   "cell_type": "code",
   "execution_count": 4,
   "metadata": {},
   "outputs": [
    {
     "data": {
      "text/plain": [
       "array([[[1., 2., 3.],\n",
       "        [1., 2., 3.],\n",
       "        [1., 2., 3.]]], dtype=float32)"
      ]
     },
     "execution_count": 4,
     "metadata": {},
     "output_type": "execute_result"
    }
   ],
   "source": [
    "A.numpy()"
   ]
  },
  {
   "cell_type": "code",
   "execution_count": 15,
   "metadata": {},
   "outputs": [
    {
     "data": {
      "text/plain": [
       "array([[1., 1., 1.],\n",
       "       [1., 1., 0.]], dtype=float32)"
      ]
     },
     "execution_count": 15,
     "metadata": {},
     "output_type": "execute_result"
    }
   ],
   "source": [
    "y.numpy()"
   ]
  }
 ],
 "metadata": {
  "kernelspec": {
   "display_name": "warp",
   "language": "python",
   "name": "python3"
  },
  "language_info": {
   "codemirror_mode": {
    "name": "ipython",
    "version": 3
   },
   "file_extension": ".py",
   "mimetype": "text/x-python",
   "name": "python",
   "nbconvert_exporter": "python",
   "pygments_lexer": "ipython3",
   "version": "3.10.13"
  }
 },
 "nbformat": 4,
 "nbformat_minor": 2
}
