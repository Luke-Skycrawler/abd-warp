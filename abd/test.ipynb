{
 "cells": [
  {
   "cell_type": "code",
   "execution_count": 3,
   "metadata": {},
   "outputs": [
    {
     "name": "stdout",
     "output_type": "stream",
     "text": [
      "Module __main__ load on device 'cuda:0' took 21.85 ms\n"
     ]
    }
   ],
   "source": [
    "import warp as wp\n",
    "import numpy as np\n",
    "\n",
    "wp.init()\n",
    "\n",
    "@wp.kernel\n",
    "def test(A: wp.mat33, x: wp.vec3, y: wp.array(dtype = wp.vec3)):\n",
    "    y[0] = A @ x\n",
    "    A[0, 1] = 1.0\n",
    "    y[1] = A[0]\n",
    "y = wp.zeros(2, dtype = wp.vec3)\n",
    "\n",
    "A = wp.zeros(1, dtype = wp.mat33)\n",
    "\n",
    "@wp.kernel\n",
    "def t2(A: wp.array(dtype = wp.mat33)):\n",
    "    A[0] = wp.outer(wp.vec3(1.0), wp.vec3(1.0, 2.0, 3.0))\n",
    "\n",
    "\n",
    "# wp.launch(test, (1), inputs = [wp.diag(wp.vec3(1.0)), wp.vec3(1.0, 1.0, 1.0), y])\n",
    "wp.launch(t2, 1, inputs = [A])"
   ]
  },
  {
   "cell_type": "code",
   "execution_count": 6,
   "metadata": {},
   "outputs": [
    {
     "name": "stdout",
     "output_type": "stream",
     "text": [
      "Module __main__ 19d0de8 load on device 'cuda:0' took 0.19 ms\n"
     ]
    },
    {
     "ename": "AttributeError",
     "evalue": "'tuple' object has no attribute 'ctype'",
     "output_type": "error",
     "traceback": [
      "\u001b[1;31m---------------------------------------------------------------------------\u001b[0m",
      "\u001b[1;31mAttributeError\u001b[0m                            Traceback (most recent call last)",
      "Cell \u001b[1;32mIn[6], line 8\u001b[0m\n\u001b[0;32m      5\u001b[0m     \u001b[38;5;28;01mreturn\u001b[39;00m \u001b[38;5;241m1\u001b[39m\n\u001b[0;32m      7\u001b[0m a \u001b[38;5;241m=\u001b[39m \u001b[38;5;241m0\u001b[39m\n\u001b[1;32m----> 8\u001b[0m \u001b[43mwp\u001b[49m\u001b[38;5;241;43m.\u001b[39;49m\u001b[43mlaunch\u001b[49m\u001b[43m(\u001b[49m\u001b[43mtest1\u001b[49m\u001b[43m,\u001b[49m\u001b[43m \u001b[49m\u001b[43m(\u001b[49m\u001b[38;5;241;43m1\u001b[39;49m\u001b[43m)\u001b[49m\u001b[43m)\u001b[49m\n\u001b[0;32m      9\u001b[0m \u001b[38;5;28mprint\u001b[39m(a)\n",
      "File \u001b[1;32md:\\users\\shay\\.conda\\envs\\newwarp\\lib\\site-packages\\warp\\context.py:4693\u001b[0m, in \u001b[0;36mlaunch\u001b[1;34m(kernel, dim, inputs, outputs, adj_inputs, adj_outputs, device, stream, adjoint, record_tape, record_cmd, max_blocks)\u001b[0m\n\u001b[0;32m   4691\u001b[0m \u001b[38;5;66;03m# delay load modules, including new overload if needed\u001b[39;00m\n\u001b[0;32m   4692\u001b[0m module \u001b[38;5;241m=\u001b[39m kernel\u001b[38;5;241m.\u001b[39mmodule\n\u001b[1;32m-> 4693\u001b[0m \u001b[38;5;28;01mif\u001b[39;00m \u001b[38;5;129;01mnot\u001b[39;00m \u001b[43mmodule\u001b[49m\u001b[38;5;241;43m.\u001b[39;49m\u001b[43mload\u001b[49m\u001b[43m(\u001b[49m\u001b[43mdevice\u001b[49m\u001b[43m)\u001b[49m:\n\u001b[0;32m   4694\u001b[0m     \u001b[38;5;28;01mreturn\u001b[39;00m\n\u001b[0;32m   4696\u001b[0m \u001b[38;5;66;03m# late bind\u001b[39;00m\n",
      "File \u001b[1;32md:\\users\\shay\\.conda\\envs\\newwarp\\lib\\site-packages\\warp\\context.py:1760\u001b[0m, in \u001b[0;36mModule.load\u001b[1;34m(self, device)\u001b[0m\n\u001b[0;32m   1753\u001b[0m \u001b[38;5;66;03m# we always want to build if binary doesn't exist yet\u001b[39;00m\n\u001b[0;32m   1754\u001b[0m \u001b[38;5;66;03m# and we want to rebuild if we are not caching kernels or if we are tracking array access\u001b[39;00m\n\u001b[0;32m   1755\u001b[0m \u001b[38;5;28;01mif\u001b[39;00m (\n\u001b[0;32m   1756\u001b[0m     \u001b[38;5;129;01mnot\u001b[39;00m os\u001b[38;5;241m.\u001b[39mpath\u001b[38;5;241m.\u001b[39mexists(binary_path)\n\u001b[0;32m   1757\u001b[0m     \u001b[38;5;129;01mor\u001b[39;00m \u001b[38;5;129;01mnot\u001b[39;00m warp\u001b[38;5;241m.\u001b[39mconfig\u001b[38;5;241m.\u001b[39mcache_kernels\n\u001b[0;32m   1758\u001b[0m     \u001b[38;5;129;01mor\u001b[39;00m warp\u001b[38;5;241m.\u001b[39mconfig\u001b[38;5;241m.\u001b[39mverify_autograd_array_access\n\u001b[0;32m   1759\u001b[0m ):\n\u001b[1;32m-> 1760\u001b[0m     builder \u001b[38;5;241m=\u001b[39m \u001b[43mModuleBuilder\u001b[49m\u001b[43m(\u001b[49m\u001b[38;5;28;43mself\u001b[39;49m\u001b[43m,\u001b[49m\u001b[43m \u001b[49m\u001b[38;5;28;43mself\u001b[39;49m\u001b[38;5;241;43m.\u001b[39;49m\u001b[43moptions\u001b[49m\u001b[43m)\u001b[49m\n\u001b[0;32m   1762\u001b[0m     \u001b[38;5;66;03m# create a temporary (process unique) dir for build outputs before moving to the binary dir\u001b[39;00m\n\u001b[0;32m   1763\u001b[0m     build_dir \u001b[38;5;241m=\u001b[39m os\u001b[38;5;241m.\u001b[39mpath\u001b[38;5;241m.\u001b[39mjoin(\n\u001b[0;32m   1764\u001b[0m         warp\u001b[38;5;241m.\u001b[39mconfig\u001b[38;5;241m.\u001b[39mkernel_cache_dir, \u001b[38;5;124mf\u001b[39m\u001b[38;5;124m\"\u001b[39m\u001b[38;5;132;01m{\u001b[39;00mmodule_name\u001b[38;5;132;01m}\u001b[39;00m\u001b[38;5;124m_\u001b[39m\u001b[38;5;132;01m{\u001b[39;00mmodule_hash\u001b[38;5;241m.\u001b[39mhex()[:\u001b[38;5;241m7\u001b[39m]\u001b[38;5;132;01m}\u001b[39;00m\u001b[38;5;124m_p\u001b[39m\u001b[38;5;132;01m{\u001b[39;00mos\u001b[38;5;241m.\u001b[39mgetpid()\u001b[38;5;132;01m}\u001b[39;00m\u001b[38;5;124m\"\u001b[39m\n\u001b[0;32m   1765\u001b[0m     )\n",
      "File \u001b[1;32md:\\users\\shay\\.conda\\envs\\newwarp\\lib\\site-packages\\warp\\context.py:1310\u001b[0m, in \u001b[0;36mModuleBuilder.__init__\u001b[1;34m(self, module, options)\u001b[0m\n\u001b[0;32m   1308\u001b[0m \u001b[38;5;28;01mfor\u001b[39;00m kernel \u001b[38;5;129;01min\u001b[39;00m module\u001b[38;5;241m.\u001b[39mkernels\u001b[38;5;241m.\u001b[39mvalues():\n\u001b[0;32m   1309\u001b[0m     \u001b[38;5;28;01mif\u001b[39;00m \u001b[38;5;129;01mnot\u001b[39;00m kernel\u001b[38;5;241m.\u001b[39mis_generic:\n\u001b[1;32m-> 1310\u001b[0m         \u001b[38;5;28;43mself\u001b[39;49m\u001b[38;5;241;43m.\u001b[39;49m\u001b[43mbuild_kernel\u001b[49m\u001b[43m(\u001b[49m\u001b[43mkernel\u001b[49m\u001b[43m)\u001b[49m\n\u001b[0;32m   1311\u001b[0m     \u001b[38;5;28;01melse\u001b[39;00m:\n\u001b[0;32m   1312\u001b[0m         \u001b[38;5;28;01mfor\u001b[39;00m k \u001b[38;5;129;01min\u001b[39;00m kernel\u001b[38;5;241m.\u001b[39moverloads\u001b[38;5;241m.\u001b[39mvalues():\n",
      "File \u001b[1;32md:\\users\\shay\\.conda\\envs\\newwarp\\lib\\site-packages\\warp\\context.py:1345\u001b[0m, in \u001b[0;36mModuleBuilder.build_kernel\u001b[1;34m(self, kernel)\u001b[0m\n\u001b[0;32m   1342\u001b[0m kernel\u001b[38;5;241m.\u001b[39madj\u001b[38;5;241m.\u001b[39mbuild(\u001b[38;5;28mself\u001b[39m)\n\u001b[0;32m   1344\u001b[0m \u001b[38;5;28;01mif\u001b[39;00m kernel\u001b[38;5;241m.\u001b[39madj\u001b[38;5;241m.\u001b[39mreturn_var \u001b[38;5;129;01mis\u001b[39;00m \u001b[38;5;129;01mnot\u001b[39;00m \u001b[38;5;28;01mNone\u001b[39;00m:\n\u001b[1;32m-> 1345\u001b[0m     \u001b[38;5;28;01mif\u001b[39;00m \u001b[43mkernel\u001b[49m\u001b[38;5;241;43m.\u001b[39;49m\u001b[43madj\u001b[49m\u001b[38;5;241;43m.\u001b[39;49m\u001b[43mreturn_var\u001b[49m\u001b[38;5;241;43m.\u001b[39;49m\u001b[43mctype\u001b[49m() \u001b[38;5;241m!=\u001b[39m \u001b[38;5;124m\"\u001b[39m\u001b[38;5;124mvoid\u001b[39m\u001b[38;5;124m\"\u001b[39m:\n\u001b[0;32m   1346\u001b[0m         \u001b[38;5;28;01mraise\u001b[39;00m \u001b[38;5;167;01mTypeError\u001b[39;00m(\u001b[38;5;124mf\u001b[39m\u001b[38;5;124m\"\u001b[39m\u001b[38;5;124mError, kernels can\u001b[39m\u001b[38;5;124m'\u001b[39m\u001b[38;5;124mt have return values, got: \u001b[39m\u001b[38;5;132;01m{\u001b[39;00mkernel\u001b[38;5;241m.\u001b[39madj\u001b[38;5;241m.\u001b[39mreturn_var\u001b[38;5;132;01m}\u001b[39;00m\u001b[38;5;124m\"\u001b[39m)\n",
      "\u001b[1;31mAttributeError\u001b[0m: 'tuple' object has no attribute 'ctype'"
     ]
    }
   ],
   "source": [
    "\n",
    "import warp as wp\n",
    "wp.init()\n",
    "@wp.kernel\n",
    "def test1() -> int:\n",
    "    return 1\n",
    "\n",
    "a = 0\n",
    "wp.launch(test1, (1))\n",
    "print(a)"
   ]
  },
  {
   "cell_type": "code",
   "execution_count": 6,
   "metadata": {},
   "outputs": [
    {
     "name": "stdout",
     "output_type": "stream",
     "text": [
      "[0, 1, 2, 3, 4]\n"
     ]
    }
   ],
   "source": [
    "vec5i = wp.types.vector(length = 5, dtype = int)\n",
    "print(vec5i(0, 1, 2, 3, 4))\n",
    "@wp.kernel\n",
    "def test2():\n",
    "    a = vec5i(0, 1, 2, 3, 4)\n",
    "    print(a)"
   ]
  },
  {
   "cell_type": "code",
   "execution_count": 1,
   "metadata": {},
   "outputs": [
    {
     "ename": "",
     "evalue": "",
     "output_type": "error",
     "traceback": [
      "\u001b[1;31mThe Kernel crashed while executing code in the current cell or a previous cell. \n",
      "\u001b[1;31mPlease review the code in the cell(s) to identify a possible cause of the failure. \n",
      "\u001b[1;31mClick <a href='https://aka.ms/vscodeJupyterKernelCrash'>here</a> for more info. \n",
      "\u001b[1;31mView Jupyter <a href='command:jupyter.viewOutput'>log</a> for further details."
     ]
    }
   ],
   "source": [
    "import fc_viewer as fc\n",
    "a = fc.fast_cd_viewer()\n",
    "import numpy as np\n",
    "v = np.eye(3)\n",
    "f = np.arange(3)\n",
    "# a.set_mesh(v, f, 0)\n",
    "a.launch()"
   ]
  },
  {
   "cell_type": "code",
   "execution_count": 3,
   "metadata": {},
   "outputs": [
    {
     "name": "stdout",
     "output_type": "stream",
     "text": [
      "Module __main__ 8bb0e0c load on device 'cuda:0' took 0.84 ms\n"
     ]
    },
    {
     "ename": "RuntimeError",
     "evalue": "Error while parsing function \"test\" at C:\\Users\\shay\\AppData\\Local\\Temp\\ipykernel_27008\\1249133514.py:13:\n    a = mat34(a0, a1, a2)\n;incompatible number of column vectors given (3) when constructing a matrix of shape (3, 4)",
     "output_type": "error",
     "traceback": [
      "\u001b[1;31m---------------------------------------------------------------------------\u001b[0m",
      "\u001b[1;31mRuntimeError\u001b[0m                              Traceback (most recent call last)",
      "File \u001b[1;32md:\\users\\shay\\.conda\\envs\\newwarp\\lib\\site-packages\\warp\\codegen.py:910\u001b[0m, in \u001b[0;36mAdjoint.build\u001b[1;34m(adj, builder, default_builder_options)\u001b[0m\n\u001b[0;32m    909\u001b[0m \u001b[38;5;28;01mtry\u001b[39;00m:\n\u001b[1;32m--> 910\u001b[0m     \u001b[43madj\u001b[49m\u001b[38;5;241;43m.\u001b[39;49m\u001b[43meval\u001b[49m\u001b[43m(\u001b[49m\u001b[43madj\u001b[49m\u001b[38;5;241;43m.\u001b[39;49m\u001b[43mtree\u001b[49m\u001b[38;5;241;43m.\u001b[39;49m\u001b[43mbody\u001b[49m\u001b[43m[\u001b[49m\u001b[38;5;241;43m0\u001b[39;49m\u001b[43m]\u001b[49m\u001b[43m)\u001b[49m\n\u001b[0;32m    911\u001b[0m \u001b[38;5;28;01mexcept\u001b[39;00m \u001b[38;5;167;01mException\u001b[39;00m:\n",
      "File \u001b[1;32md:\\users\\shay\\.conda\\envs\\newwarp\\lib\\site-packages\\warp\\codegen.py:2436\u001b[0m, in \u001b[0;36mAdjoint.eval\u001b[1;34m(adj, node)\u001b[0m\n\u001b[0;32m   2434\u001b[0m     \u001b[38;5;28;01mraise\u001b[39;00m WarpCodegenError(\u001b[38;5;124mf\u001b[39m\u001b[38;5;124m\"\u001b[39m\u001b[38;5;124mConstruct `\u001b[39m\u001b[38;5;132;01m{\u001b[39;00mnamespace\u001b[38;5;132;01m}\u001b[39;00m\u001b[38;5;132;01m{\u001b[39;00mtype_name\u001b[38;5;132;01m}\u001b[39;00m\u001b[38;5;124m` not supported in kernels.\u001b[39m\u001b[38;5;124m\"\u001b[39m) \u001b[38;5;28;01mfrom\u001b[39;00m \u001b[38;5;21;01me\u001b[39;00m\n\u001b[1;32m-> 2436\u001b[0m \u001b[38;5;28;01mreturn\u001b[39;00m \u001b[43memit_node\u001b[49m\u001b[43m(\u001b[49m\u001b[43madj\u001b[49m\u001b[43m,\u001b[49m\u001b[43m \u001b[49m\u001b[43mnode\u001b[49m\u001b[43m)\u001b[49m\n",
      "File \u001b[1;32md:\\users\\shay\\.conda\\envs\\newwarp\\lib\\site-packages\\warp\\codegen.py:1490\u001b[0m, in \u001b[0;36mAdjoint.emit_FunctionDef\u001b[1;34m(adj, node)\u001b[0m\n\u001b[0;32m   1489\u001b[0m \u001b[38;5;28;01mfor\u001b[39;00m f \u001b[38;5;129;01min\u001b[39;00m node\u001b[38;5;241m.\u001b[39mbody:\n\u001b[1;32m-> 1490\u001b[0m     \u001b[43madj\u001b[49m\u001b[38;5;241;43m.\u001b[39;49m\u001b[43meval\u001b[49m\u001b[43m(\u001b[49m\u001b[43mf\u001b[49m\u001b[43m)\u001b[49m\n\u001b[0;32m   1492\u001b[0m \u001b[38;5;28;01mif\u001b[39;00m adj\u001b[38;5;241m.\u001b[39mreturn_var \u001b[38;5;129;01mis\u001b[39;00m \u001b[38;5;129;01mnot\u001b[39;00m \u001b[38;5;28;01mNone\u001b[39;00m \u001b[38;5;129;01mand\u001b[39;00m \u001b[38;5;28mlen\u001b[39m(adj\u001b[38;5;241m.\u001b[39mreturn_var) \u001b[38;5;241m==\u001b[39m \u001b[38;5;241m1\u001b[39m:\n",
      "File \u001b[1;32md:\\users\\shay\\.conda\\envs\\newwarp\\lib\\site-packages\\warp\\codegen.py:2436\u001b[0m, in \u001b[0;36mAdjoint.eval\u001b[1;34m(adj, node)\u001b[0m\n\u001b[0;32m   2434\u001b[0m     \u001b[38;5;28;01mraise\u001b[39;00m WarpCodegenError(\u001b[38;5;124mf\u001b[39m\u001b[38;5;124m\"\u001b[39m\u001b[38;5;124mConstruct `\u001b[39m\u001b[38;5;132;01m{\u001b[39;00mnamespace\u001b[38;5;132;01m}\u001b[39;00m\u001b[38;5;132;01m{\u001b[39;00mtype_name\u001b[38;5;132;01m}\u001b[39;00m\u001b[38;5;124m` not supported in kernels.\u001b[39m\u001b[38;5;124m\"\u001b[39m) \u001b[38;5;28;01mfrom\u001b[39;00m \u001b[38;5;21;01me\u001b[39;00m\n\u001b[1;32m-> 2436\u001b[0m \u001b[38;5;28;01mreturn\u001b[39;00m \u001b[43memit_node\u001b[49m\u001b[43m(\u001b[49m\u001b[43madj\u001b[49m\u001b[43m,\u001b[49m\u001b[43m \u001b[49m\u001b[43mnode\u001b[49m\u001b[43m)\u001b[49m\n",
      "File \u001b[1;32md:\\users\\shay\\.conda\\envs\\newwarp\\lib\\site-packages\\warp\\codegen.py:2309\u001b[0m, in \u001b[0;36mAdjoint.emit_Assign\u001b[1;34m(adj, node)\u001b[0m\n\u001b[0;32m   2308\u001b[0m \u001b[38;5;66;03m# evaluate rhs\u001b[39;00m\n\u001b[1;32m-> 2309\u001b[0m rhs \u001b[38;5;241m=\u001b[39m \u001b[43madj\u001b[49m\u001b[38;5;241;43m.\u001b[39;49m\u001b[43meval\u001b[49m\u001b[43m(\u001b[49m\u001b[43mnode\u001b[49m\u001b[38;5;241;43m.\u001b[39;49m\u001b[43mvalue\u001b[49m\u001b[43m)\u001b[49m\n\u001b[0;32m   2311\u001b[0m \u001b[38;5;66;03m# check type matches if symbol already defined\u001b[39;00m\n",
      "File \u001b[1;32md:\\users\\shay\\.conda\\envs\\newwarp\\lib\\site-packages\\warp\\codegen.py:2436\u001b[0m, in \u001b[0;36mAdjoint.eval\u001b[1;34m(adj, node)\u001b[0m\n\u001b[0;32m   2434\u001b[0m     \u001b[38;5;28;01mraise\u001b[39;00m WarpCodegenError(\u001b[38;5;124mf\u001b[39m\u001b[38;5;124m\"\u001b[39m\u001b[38;5;124mConstruct `\u001b[39m\u001b[38;5;132;01m{\u001b[39;00mnamespace\u001b[38;5;132;01m}\u001b[39;00m\u001b[38;5;132;01m{\u001b[39;00mtype_name\u001b[38;5;132;01m}\u001b[39;00m\u001b[38;5;124m` not supported in kernels.\u001b[39m\u001b[38;5;124m\"\u001b[39m) \u001b[38;5;28;01mfrom\u001b[39;00m \u001b[38;5;21;01me\u001b[39;00m\n\u001b[1;32m-> 2436\u001b[0m \u001b[38;5;28;01mreturn\u001b[39;00m \u001b[43memit_node\u001b[49m\u001b[43m(\u001b[49m\u001b[43madj\u001b[49m\u001b[43m,\u001b[49m\u001b[43m \u001b[49m\u001b[43mnode\u001b[49m\u001b[43m)\u001b[49m\n",
      "File \u001b[1;32md:\\users\\shay\\.conda\\envs\\newwarp\\lib\\site-packages\\warp\\codegen.py:2100\u001b[0m, in \u001b[0;36mAdjoint.emit_Call\u001b[1;34m(adj, node)\u001b[0m\n\u001b[0;32m   2098\u001b[0m                 arg\u001b[38;5;241m.\u001b[39mmark_read()\n\u001b[1;32m-> 2100\u001b[0m out \u001b[38;5;241m=\u001b[39m \u001b[43madj\u001b[49m\u001b[38;5;241;43m.\u001b[39;49m\u001b[43madd_call\u001b[49m\u001b[43m(\u001b[49m\u001b[43mfunc\u001b[49m\u001b[43m,\u001b[49m\u001b[43m \u001b[49m\u001b[43margs\u001b[49m\u001b[43m,\u001b[49m\u001b[43m \u001b[49m\u001b[43mkwargs\u001b[49m\u001b[43m,\u001b[49m\u001b[43m \u001b[49m\u001b[43mtype_args\u001b[49m\u001b[43m,\u001b[49m\u001b[43m \u001b[49m\u001b[43mmin_outputs\u001b[49m\u001b[38;5;241;43m=\u001b[39;49m\u001b[43mmin_outputs\u001b[49m\u001b[43m)\u001b[49m\n\u001b[0;32m   2101\u001b[0m \u001b[38;5;28;01mreturn\u001b[39;00m out\n",
      "File \u001b[1;32md:\\users\\shay\\.conda\\envs\\newwarp\\lib\\site-packages\\warp\\codegen.py:1224\u001b[0m, in \u001b[0;36mAdjoint.add_call\u001b[1;34m(adj, func, args, kwargs, type_args, min_outputs)\u001b[0m\n\u001b[0;32m   1223\u001b[0m bound_arg_values \u001b[38;5;241m=\u001b[39m {k: get_arg_value(v) \u001b[38;5;28;01mfor\u001b[39;00m k, v \u001b[38;5;129;01min\u001b[39;00m bound_args\u001b[38;5;241m.\u001b[39mitems()}\n\u001b[1;32m-> 1224\u001b[0m return_type \u001b[38;5;241m=\u001b[39m \u001b[43mfunc\u001b[49m\u001b[38;5;241;43m.\u001b[39;49m\u001b[43mvalue_func\u001b[49m\u001b[43m(\u001b[49m\n\u001b[0;32m   1225\u001b[0m \u001b[43m    \u001b[49m\u001b[43m{\u001b[49m\u001b[43mk\u001b[49m\u001b[43m:\u001b[49m\u001b[43m \u001b[49m\u001b[43mstrip_reference\u001b[49m\u001b[43m(\u001b[49m\u001b[43mv\u001b[49m\u001b[43m)\u001b[49m\u001b[43m \u001b[49m\u001b[38;5;28;43;01mfor\u001b[39;49;00m\u001b[43m \u001b[49m\u001b[43mk\u001b[49m\u001b[43m,\u001b[49m\u001b[43m \u001b[49m\u001b[43mv\u001b[49m\u001b[43m \u001b[49m\u001b[38;5;129;43;01min\u001b[39;49;00m\u001b[43m \u001b[49m\u001b[43mbound_arg_types\u001b[49m\u001b[38;5;241;43m.\u001b[39;49m\u001b[43mitems\u001b[49m\u001b[43m(\u001b[49m\u001b[43m)\u001b[49m\u001b[43m}\u001b[49m\u001b[43m,\u001b[49m\n\u001b[0;32m   1226\u001b[0m \u001b[43m    \u001b[49m\u001b[43mbound_arg_values\u001b[49m\u001b[43m,\u001b[49m\n\u001b[0;32m   1227\u001b[0m \u001b[43m\u001b[49m\u001b[43m)\u001b[49m\n\u001b[0;32m   1229\u001b[0m \u001b[38;5;28;01mif\u001b[39;00m func\u001b[38;5;241m.\u001b[39mdispatch_func \u001b[38;5;129;01mis\u001b[39;00m \u001b[38;5;129;01mnot\u001b[39;00m \u001b[38;5;28;01mNone\u001b[39;00m:\n\u001b[0;32m   1230\u001b[0m     \u001b[38;5;66;03m# If we have a built-in that requires special handling to dispatch\u001b[39;00m\n\u001b[0;32m   1231\u001b[0m     \u001b[38;5;66;03m# the arguments to the underlying C++ function, then we can resolve\u001b[39;00m\n\u001b[1;32m   (...)\u001b[0m\n\u001b[0;32m   1235\u001b[0m     \u001b[38;5;66;03m# for example by checking whether an argument corresponds to\u001b[39;00m\n\u001b[0;32m   1236\u001b[0m     \u001b[38;5;66;03m# a literal value or references a variable.\u001b[39;00m\n",
      "File \u001b[1;32md:\\users\\shay\\.conda\\envs\\newwarp\\lib\\site-packages\\warp\\builtins.py:940\u001b[0m, in \u001b[0;36mmatrix_value_func\u001b[1;34m(arg_types, arg_values)\u001b[0m\n\u001b[0;32m    939\u001b[0m \u001b[38;5;28;01mif\u001b[39;00m shape[\u001b[38;5;241m1\u001b[39m] \u001b[38;5;241m!=\u001b[39m variadic_arg_count:\n\u001b[1;32m--> 940\u001b[0m     \u001b[38;5;28;01mraise\u001b[39;00m \u001b[38;5;167;01mRuntimeError\u001b[39;00m(\n\u001b[0;32m    941\u001b[0m         \u001b[38;5;124mf\u001b[39m\u001b[38;5;124m\"\u001b[39m\u001b[38;5;124mincompatible number of column vectors given (\u001b[39m\u001b[38;5;132;01m{\u001b[39;00mvariadic_arg_count\u001b[38;5;132;01m}\u001b[39;00m\u001b[38;5;124m) \u001b[39m\u001b[38;5;124m\"\u001b[39m\n\u001b[0;32m    942\u001b[0m         \u001b[38;5;124mf\u001b[39m\u001b[38;5;124m\"\u001b[39m\u001b[38;5;124mwhen constructing a matrix of shape \u001b[39m\u001b[38;5;132;01m{\u001b[39;00m\u001b[38;5;28mtuple\u001b[39m(shape)\u001b[38;5;132;01m}\u001b[39;00m\u001b[38;5;124m\"\u001b[39m\n\u001b[0;32m    943\u001b[0m     )\n\u001b[0;32m    945\u001b[0m \u001b[38;5;28;01mif\u001b[39;00m \u001b[38;5;28many\u001b[39m(x\u001b[38;5;241m.\u001b[39m_length_ \u001b[38;5;241m!=\u001b[39m shape[\u001b[38;5;241m0\u001b[39m] \u001b[38;5;28;01mfor\u001b[39;00m x \u001b[38;5;129;01min\u001b[39;00m variadic_arg_types):\n",
      "\u001b[1;31mRuntimeError\u001b[0m: incompatible number of column vectors given (3) when constructing a matrix of shape (3, 4)",
      "\nDuring handling of the above exception, another exception occurred:\n",
      "\u001b[1;31mRuntimeError\u001b[0m                              Traceback (most recent call last)",
      "Cell \u001b[1;32mIn[3], line 17\u001b[0m\n\u001b[0;32m     14\u001b[0m     \u001b[38;5;28mprint\u001b[39m(a)\n\u001b[0;32m     15\u001b[0m     ret[\u001b[38;5;241m0\u001b[39m] \u001b[38;5;241m=\u001b[39m a\n\u001b[1;32m---> 17\u001b[0m \u001b[43mwp\u001b[49m\u001b[38;5;241;43m.\u001b[39;49m\u001b[43mlaunch\u001b[49m\u001b[43m(\u001b[49m\u001b[43mtest\u001b[49m\u001b[43m,\u001b[49m\u001b[43m \u001b[49m\u001b[38;5;241;43m1\u001b[39;49m\u001b[43m,\u001b[49m\u001b[43m \u001b[49m\u001b[43minputs\u001b[49m\u001b[43m \u001b[49m\u001b[38;5;241;43m=\u001b[39;49m\u001b[43m \u001b[49m\u001b[43m[\u001b[49m\u001b[43ma\u001b[49m\u001b[43m]\u001b[49m\u001b[43m)\u001b[49m\n\u001b[0;32m     18\u001b[0m \u001b[38;5;28mprint\u001b[39m(a\u001b[38;5;241m.\u001b[39mnumpy())\n",
      "File \u001b[1;32md:\\users\\shay\\.conda\\envs\\newwarp\\lib\\site-packages\\warp\\context.py:4693\u001b[0m, in \u001b[0;36mlaunch\u001b[1;34m(kernel, dim, inputs, outputs, adj_inputs, adj_outputs, device, stream, adjoint, record_tape, record_cmd, max_blocks)\u001b[0m\n\u001b[0;32m   4691\u001b[0m \u001b[38;5;66;03m# delay load modules, including new overload if needed\u001b[39;00m\n\u001b[0;32m   4692\u001b[0m module \u001b[38;5;241m=\u001b[39m kernel\u001b[38;5;241m.\u001b[39mmodule\n\u001b[1;32m-> 4693\u001b[0m \u001b[38;5;28;01mif\u001b[39;00m \u001b[38;5;129;01mnot\u001b[39;00m \u001b[43mmodule\u001b[49m\u001b[38;5;241;43m.\u001b[39;49m\u001b[43mload\u001b[49m\u001b[43m(\u001b[49m\u001b[43mdevice\u001b[49m\u001b[43m)\u001b[49m:\n\u001b[0;32m   4694\u001b[0m     \u001b[38;5;28;01mreturn\u001b[39;00m\n\u001b[0;32m   4696\u001b[0m \u001b[38;5;66;03m# late bind\u001b[39;00m\n",
      "File \u001b[1;32md:\\users\\shay\\.conda\\envs\\newwarp\\lib\\site-packages\\warp\\context.py:1760\u001b[0m, in \u001b[0;36mModule.load\u001b[1;34m(self, device)\u001b[0m\n\u001b[0;32m   1753\u001b[0m \u001b[38;5;66;03m# we always want to build if binary doesn't exist yet\u001b[39;00m\n\u001b[0;32m   1754\u001b[0m \u001b[38;5;66;03m# and we want to rebuild if we are not caching kernels or if we are tracking array access\u001b[39;00m\n\u001b[0;32m   1755\u001b[0m \u001b[38;5;28;01mif\u001b[39;00m (\n\u001b[0;32m   1756\u001b[0m     \u001b[38;5;129;01mnot\u001b[39;00m os\u001b[38;5;241m.\u001b[39mpath\u001b[38;5;241m.\u001b[39mexists(binary_path)\n\u001b[0;32m   1757\u001b[0m     \u001b[38;5;129;01mor\u001b[39;00m \u001b[38;5;129;01mnot\u001b[39;00m warp\u001b[38;5;241m.\u001b[39mconfig\u001b[38;5;241m.\u001b[39mcache_kernels\n\u001b[0;32m   1758\u001b[0m     \u001b[38;5;129;01mor\u001b[39;00m warp\u001b[38;5;241m.\u001b[39mconfig\u001b[38;5;241m.\u001b[39mverify_autograd_array_access\n\u001b[0;32m   1759\u001b[0m ):\n\u001b[1;32m-> 1760\u001b[0m     builder \u001b[38;5;241m=\u001b[39m \u001b[43mModuleBuilder\u001b[49m\u001b[43m(\u001b[49m\u001b[38;5;28;43mself\u001b[39;49m\u001b[43m,\u001b[49m\u001b[43m \u001b[49m\u001b[38;5;28;43mself\u001b[39;49m\u001b[38;5;241;43m.\u001b[39;49m\u001b[43moptions\u001b[49m\u001b[43m)\u001b[49m\n\u001b[0;32m   1762\u001b[0m     \u001b[38;5;66;03m# create a temporary (process unique) dir for build outputs before moving to the binary dir\u001b[39;00m\n\u001b[0;32m   1763\u001b[0m     build_dir \u001b[38;5;241m=\u001b[39m os\u001b[38;5;241m.\u001b[39mpath\u001b[38;5;241m.\u001b[39mjoin(\n\u001b[0;32m   1764\u001b[0m         warp\u001b[38;5;241m.\u001b[39mconfig\u001b[38;5;241m.\u001b[39mkernel_cache_dir, \u001b[38;5;124mf\u001b[39m\u001b[38;5;124m\"\u001b[39m\u001b[38;5;132;01m{\u001b[39;00mmodule_name\u001b[38;5;132;01m}\u001b[39;00m\u001b[38;5;124m_\u001b[39m\u001b[38;5;132;01m{\u001b[39;00mmodule_hash\u001b[38;5;241m.\u001b[39mhex()[:\u001b[38;5;241m7\u001b[39m]\u001b[38;5;132;01m}\u001b[39;00m\u001b[38;5;124m_p\u001b[39m\u001b[38;5;132;01m{\u001b[39;00mos\u001b[38;5;241m.\u001b[39mgetpid()\u001b[38;5;132;01m}\u001b[39;00m\u001b[38;5;124m\"\u001b[39m\n\u001b[0;32m   1765\u001b[0m     )\n",
      "File \u001b[1;32md:\\users\\shay\\.conda\\envs\\newwarp\\lib\\site-packages\\warp\\context.py:1310\u001b[0m, in \u001b[0;36mModuleBuilder.__init__\u001b[1;34m(self, module, options)\u001b[0m\n\u001b[0;32m   1308\u001b[0m \u001b[38;5;28;01mfor\u001b[39;00m kernel \u001b[38;5;129;01min\u001b[39;00m module\u001b[38;5;241m.\u001b[39mkernels\u001b[38;5;241m.\u001b[39mvalues():\n\u001b[0;32m   1309\u001b[0m     \u001b[38;5;28;01mif\u001b[39;00m \u001b[38;5;129;01mnot\u001b[39;00m kernel\u001b[38;5;241m.\u001b[39mis_generic:\n\u001b[1;32m-> 1310\u001b[0m         \u001b[38;5;28;43mself\u001b[39;49m\u001b[38;5;241;43m.\u001b[39;49m\u001b[43mbuild_kernel\u001b[49m\u001b[43m(\u001b[49m\u001b[43mkernel\u001b[49m\u001b[43m)\u001b[49m\n\u001b[0;32m   1311\u001b[0m     \u001b[38;5;28;01melse\u001b[39;00m:\n\u001b[0;32m   1312\u001b[0m         \u001b[38;5;28;01mfor\u001b[39;00m k \u001b[38;5;129;01min\u001b[39;00m kernel\u001b[38;5;241m.\u001b[39moverloads\u001b[38;5;241m.\u001b[39mvalues():\n",
      "File \u001b[1;32md:\\users\\shay\\.conda\\envs\\newwarp\\lib\\site-packages\\warp\\context.py:1342\u001b[0m, in \u001b[0;36mModuleBuilder.build_kernel\u001b[1;34m(self, kernel)\u001b[0m\n\u001b[0;32m   1341\u001b[0m \u001b[38;5;28;01mdef\u001b[39;00m \u001b[38;5;21mbuild_kernel\u001b[39m(\u001b[38;5;28mself\u001b[39m, kernel):\n\u001b[1;32m-> 1342\u001b[0m     \u001b[43mkernel\u001b[49m\u001b[38;5;241;43m.\u001b[39;49m\u001b[43madj\u001b[49m\u001b[38;5;241;43m.\u001b[39;49m\u001b[43mbuild\u001b[49m\u001b[43m(\u001b[49m\u001b[38;5;28;43mself\u001b[39;49m\u001b[43m)\u001b[49m\n\u001b[0;32m   1344\u001b[0m     \u001b[38;5;28;01mif\u001b[39;00m kernel\u001b[38;5;241m.\u001b[39madj\u001b[38;5;241m.\u001b[39mreturn_var \u001b[38;5;129;01mis\u001b[39;00m \u001b[38;5;129;01mnot\u001b[39;00m \u001b[38;5;28;01mNone\u001b[39;00m:\n\u001b[0;32m   1345\u001b[0m         \u001b[38;5;28;01mif\u001b[39;00m kernel\u001b[38;5;241m.\u001b[39madj\u001b[38;5;241m.\u001b[39mreturn_var\u001b[38;5;241m.\u001b[39mctype() \u001b[38;5;241m!=\u001b[39m \u001b[38;5;124m\"\u001b[39m\u001b[38;5;124mvoid\u001b[39m\u001b[38;5;124m\"\u001b[39m:\n",
      "File \u001b[1;32md:\\users\\shay\\.conda\\envs\\newwarp\\lib\\site-packages\\warp\\codegen.py:920\u001b[0m, in \u001b[0;36mAdjoint.build\u001b[1;34m(adj, builder, default_builder_options)\u001b[0m\n\u001b[0;32m    918\u001b[0m     \u001b[38;5;28;01mfinally\u001b[39;00m:\n\u001b[0;32m    919\u001b[0m         adj\u001b[38;5;241m.\u001b[39mskip_build \u001b[38;5;241m=\u001b[39m \u001b[38;5;28;01mTrue\u001b[39;00m\n\u001b[1;32m--> 920\u001b[0m         \u001b[38;5;28;01mraise\u001b[39;00m e\n\u001b[0;32m    922\u001b[0m \u001b[38;5;28;01mif\u001b[39;00m builder \u001b[38;5;129;01mis\u001b[39;00m \u001b[38;5;129;01mnot\u001b[39;00m \u001b[38;5;28;01mNone\u001b[39;00m:\n\u001b[0;32m    923\u001b[0m     \u001b[38;5;28;01mfor\u001b[39;00m a \u001b[38;5;129;01min\u001b[39;00m adj\u001b[38;5;241m.\u001b[39margs:\n",
      "File \u001b[1;32md:\\users\\shay\\.conda\\envs\\newwarp\\lib\\site-packages\\warp\\codegen.py:910\u001b[0m, in \u001b[0;36mAdjoint.build\u001b[1;34m(adj, builder, default_builder_options)\u001b[0m\n\u001b[0;32m    908\u001b[0m \u001b[38;5;66;03m# recursively evaluate function body\u001b[39;00m\n\u001b[0;32m    909\u001b[0m \u001b[38;5;28;01mtry\u001b[39;00m:\n\u001b[1;32m--> 910\u001b[0m     \u001b[43madj\u001b[49m\u001b[38;5;241;43m.\u001b[39;49m\u001b[43meval\u001b[49m\u001b[43m(\u001b[49m\u001b[43madj\u001b[49m\u001b[38;5;241;43m.\u001b[39;49m\u001b[43mtree\u001b[49m\u001b[38;5;241;43m.\u001b[39;49m\u001b[43mbody\u001b[49m\u001b[43m[\u001b[49m\u001b[38;5;241;43m0\u001b[39;49m\u001b[43m]\u001b[49m\u001b[43m)\u001b[49m\n\u001b[0;32m    911\u001b[0m \u001b[38;5;28;01mexcept\u001b[39;00m \u001b[38;5;167;01mException\u001b[39;00m:\n\u001b[0;32m    912\u001b[0m     \u001b[38;5;28;01mtry\u001b[39;00m:\n",
      "File \u001b[1;32md:\\users\\shay\\.conda\\envs\\newwarp\\lib\\site-packages\\warp\\codegen.py:2436\u001b[0m, in \u001b[0;36mAdjoint.eval\u001b[1;34m(adj, node)\u001b[0m\n\u001b[0;32m   2433\u001b[0m     namespace \u001b[38;5;241m=\u001b[39m \u001b[38;5;124m\"\u001b[39m\u001b[38;5;124mast.\u001b[39m\u001b[38;5;124m\"\u001b[39m \u001b[38;5;28;01mif\u001b[39;00m \u001b[38;5;28misinstance\u001b[39m(node, ast\u001b[38;5;241m.\u001b[39mAST) \u001b[38;5;28;01melse\u001b[39;00m \u001b[38;5;124m\"\u001b[39m\u001b[38;5;124m\"\u001b[39m\n\u001b[0;32m   2434\u001b[0m     \u001b[38;5;28;01mraise\u001b[39;00m WarpCodegenError(\u001b[38;5;124mf\u001b[39m\u001b[38;5;124m\"\u001b[39m\u001b[38;5;124mConstruct `\u001b[39m\u001b[38;5;132;01m{\u001b[39;00mnamespace\u001b[38;5;132;01m}\u001b[39;00m\u001b[38;5;132;01m{\u001b[39;00mtype_name\u001b[38;5;132;01m}\u001b[39;00m\u001b[38;5;124m` not supported in kernels.\u001b[39m\u001b[38;5;124m\"\u001b[39m) \u001b[38;5;28;01mfrom\u001b[39;00m \u001b[38;5;21;01me\u001b[39;00m\n\u001b[1;32m-> 2436\u001b[0m \u001b[38;5;28;01mreturn\u001b[39;00m \u001b[43memit_node\u001b[49m\u001b[43m(\u001b[49m\u001b[43madj\u001b[49m\u001b[43m,\u001b[49m\u001b[43m \u001b[49m\u001b[43mnode\u001b[49m\u001b[43m)\u001b[49m\n",
      "File \u001b[1;32md:\\users\\shay\\.conda\\envs\\newwarp\\lib\\site-packages\\warp\\codegen.py:1490\u001b[0m, in \u001b[0;36mAdjoint.emit_FunctionDef\u001b[1;34m(adj, node)\u001b[0m\n\u001b[0;32m   1488\u001b[0m \u001b[38;5;28;01mdef\u001b[39;00m \u001b[38;5;21memit_FunctionDef\u001b[39m(adj, node):\n\u001b[0;32m   1489\u001b[0m     \u001b[38;5;28;01mfor\u001b[39;00m f \u001b[38;5;129;01min\u001b[39;00m node\u001b[38;5;241m.\u001b[39mbody:\n\u001b[1;32m-> 1490\u001b[0m         \u001b[43madj\u001b[49m\u001b[38;5;241;43m.\u001b[39;49m\u001b[43meval\u001b[49m\u001b[43m(\u001b[49m\u001b[43mf\u001b[49m\u001b[43m)\u001b[49m\n\u001b[0;32m   1492\u001b[0m     \u001b[38;5;28;01mif\u001b[39;00m adj\u001b[38;5;241m.\u001b[39mreturn_var \u001b[38;5;129;01mis\u001b[39;00m \u001b[38;5;129;01mnot\u001b[39;00m \u001b[38;5;28;01mNone\u001b[39;00m \u001b[38;5;129;01mand\u001b[39;00m \u001b[38;5;28mlen\u001b[39m(adj\u001b[38;5;241m.\u001b[39mreturn_var) \u001b[38;5;241m==\u001b[39m \u001b[38;5;241m1\u001b[39m:\n\u001b[0;32m   1493\u001b[0m         \u001b[38;5;28;01mif\u001b[39;00m \u001b[38;5;129;01mnot\u001b[39;00m \u001b[38;5;28misinstance\u001b[39m(node\u001b[38;5;241m.\u001b[39mbody[\u001b[38;5;241m-\u001b[39m\u001b[38;5;241m1\u001b[39m], ast\u001b[38;5;241m.\u001b[39mReturn):\n",
      "File \u001b[1;32md:\\users\\shay\\.conda\\envs\\newwarp\\lib\\site-packages\\warp\\codegen.py:2436\u001b[0m, in \u001b[0;36mAdjoint.eval\u001b[1;34m(adj, node)\u001b[0m\n\u001b[0;32m   2433\u001b[0m     namespace \u001b[38;5;241m=\u001b[39m \u001b[38;5;124m\"\u001b[39m\u001b[38;5;124mast.\u001b[39m\u001b[38;5;124m\"\u001b[39m \u001b[38;5;28;01mif\u001b[39;00m \u001b[38;5;28misinstance\u001b[39m(node, ast\u001b[38;5;241m.\u001b[39mAST) \u001b[38;5;28;01melse\u001b[39;00m \u001b[38;5;124m\"\u001b[39m\u001b[38;5;124m\"\u001b[39m\n\u001b[0;32m   2434\u001b[0m     \u001b[38;5;28;01mraise\u001b[39;00m WarpCodegenError(\u001b[38;5;124mf\u001b[39m\u001b[38;5;124m\"\u001b[39m\u001b[38;5;124mConstruct `\u001b[39m\u001b[38;5;132;01m{\u001b[39;00mnamespace\u001b[38;5;132;01m}\u001b[39;00m\u001b[38;5;132;01m{\u001b[39;00mtype_name\u001b[38;5;132;01m}\u001b[39;00m\u001b[38;5;124m` not supported in kernels.\u001b[39m\u001b[38;5;124m\"\u001b[39m) \u001b[38;5;28;01mfrom\u001b[39;00m \u001b[38;5;21;01me\u001b[39;00m\n\u001b[1;32m-> 2436\u001b[0m \u001b[38;5;28;01mreturn\u001b[39;00m \u001b[43memit_node\u001b[49m\u001b[43m(\u001b[49m\u001b[43madj\u001b[49m\u001b[43m,\u001b[49m\u001b[43m \u001b[49m\u001b[43mnode\u001b[49m\u001b[43m)\u001b[49m\n",
      "File \u001b[1;32md:\\users\\shay\\.conda\\envs\\newwarp\\lib\\site-packages\\warp\\codegen.py:2309\u001b[0m, in \u001b[0;36mAdjoint.emit_Assign\u001b[1;34m(adj, node)\u001b[0m\n\u001b[0;32m   2306\u001b[0m name \u001b[38;5;241m=\u001b[39m lhs\u001b[38;5;241m.\u001b[39mid\n\u001b[0;32m   2308\u001b[0m \u001b[38;5;66;03m# evaluate rhs\u001b[39;00m\n\u001b[1;32m-> 2309\u001b[0m rhs \u001b[38;5;241m=\u001b[39m \u001b[43madj\u001b[49m\u001b[38;5;241;43m.\u001b[39;49m\u001b[43meval\u001b[49m\u001b[43m(\u001b[49m\u001b[43mnode\u001b[49m\u001b[38;5;241;43m.\u001b[39;49m\u001b[43mvalue\u001b[49m\u001b[43m)\u001b[49m\n\u001b[0;32m   2311\u001b[0m \u001b[38;5;66;03m# check type matches if symbol already defined\u001b[39;00m\n\u001b[0;32m   2312\u001b[0m \u001b[38;5;28;01mif\u001b[39;00m name \u001b[38;5;129;01min\u001b[39;00m adj\u001b[38;5;241m.\u001b[39msymbols:\n",
      "File \u001b[1;32md:\\users\\shay\\.conda\\envs\\newwarp\\lib\\site-packages\\warp\\codegen.py:2436\u001b[0m, in \u001b[0;36mAdjoint.eval\u001b[1;34m(adj, node)\u001b[0m\n\u001b[0;32m   2433\u001b[0m     namespace \u001b[38;5;241m=\u001b[39m \u001b[38;5;124m\"\u001b[39m\u001b[38;5;124mast.\u001b[39m\u001b[38;5;124m\"\u001b[39m \u001b[38;5;28;01mif\u001b[39;00m \u001b[38;5;28misinstance\u001b[39m(node, ast\u001b[38;5;241m.\u001b[39mAST) \u001b[38;5;28;01melse\u001b[39;00m \u001b[38;5;124m\"\u001b[39m\u001b[38;5;124m\"\u001b[39m\n\u001b[0;32m   2434\u001b[0m     \u001b[38;5;28;01mraise\u001b[39;00m WarpCodegenError(\u001b[38;5;124mf\u001b[39m\u001b[38;5;124m\"\u001b[39m\u001b[38;5;124mConstruct `\u001b[39m\u001b[38;5;132;01m{\u001b[39;00mnamespace\u001b[38;5;132;01m}\u001b[39;00m\u001b[38;5;132;01m{\u001b[39;00mtype_name\u001b[38;5;132;01m}\u001b[39;00m\u001b[38;5;124m` not supported in kernels.\u001b[39m\u001b[38;5;124m\"\u001b[39m) \u001b[38;5;28;01mfrom\u001b[39;00m \u001b[38;5;21;01me\u001b[39;00m\n\u001b[1;32m-> 2436\u001b[0m \u001b[38;5;28;01mreturn\u001b[39;00m \u001b[43memit_node\u001b[49m\u001b[43m(\u001b[49m\u001b[43madj\u001b[49m\u001b[43m,\u001b[49m\u001b[43m \u001b[49m\u001b[43mnode\u001b[49m\u001b[43m)\u001b[49m\n",
      "File \u001b[1;32md:\\users\\shay\\.conda\\envs\\newwarp\\lib\\site-packages\\warp\\codegen.py:2100\u001b[0m, in \u001b[0;36mAdjoint.emit_Call\u001b[1;34m(adj, node)\u001b[0m\n\u001b[0;32m   2097\u001b[0m             \u001b[38;5;28;01mif\u001b[39;00m func\u001b[38;5;241m.\u001b[39madj\u001b[38;5;241m.\u001b[39margs[i]\u001b[38;5;241m.\u001b[39mis_read:\n\u001b[0;32m   2098\u001b[0m                 arg\u001b[38;5;241m.\u001b[39mmark_read()\n\u001b[1;32m-> 2100\u001b[0m out \u001b[38;5;241m=\u001b[39m \u001b[43madj\u001b[49m\u001b[38;5;241;43m.\u001b[39;49m\u001b[43madd_call\u001b[49m\u001b[43m(\u001b[49m\u001b[43mfunc\u001b[49m\u001b[43m,\u001b[49m\u001b[43m \u001b[49m\u001b[43margs\u001b[49m\u001b[43m,\u001b[49m\u001b[43m \u001b[49m\u001b[43mkwargs\u001b[49m\u001b[43m,\u001b[49m\u001b[43m \u001b[49m\u001b[43mtype_args\u001b[49m\u001b[43m,\u001b[49m\u001b[43m \u001b[49m\u001b[43mmin_outputs\u001b[49m\u001b[38;5;241;43m=\u001b[39;49m\u001b[43mmin_outputs\u001b[49m\u001b[43m)\u001b[49m\n\u001b[0;32m   2101\u001b[0m \u001b[38;5;28;01mreturn\u001b[39;00m out\n",
      "File \u001b[1;32md:\\users\\shay\\.conda\\envs\\newwarp\\lib\\site-packages\\warp\\codegen.py:1224\u001b[0m, in \u001b[0;36mAdjoint.add_call\u001b[1;34m(adj, func, args, kwargs, type_args, min_outputs)\u001b[0m\n\u001b[0;32m   1222\u001b[0m bound_arg_types \u001b[38;5;241m=\u001b[39m {k: get_arg_type(v) \u001b[38;5;28;01mfor\u001b[39;00m k, v \u001b[38;5;129;01min\u001b[39;00m bound_args\u001b[38;5;241m.\u001b[39mitems()}\n\u001b[0;32m   1223\u001b[0m bound_arg_values \u001b[38;5;241m=\u001b[39m {k: get_arg_value(v) \u001b[38;5;28;01mfor\u001b[39;00m k, v \u001b[38;5;129;01min\u001b[39;00m bound_args\u001b[38;5;241m.\u001b[39mitems()}\n\u001b[1;32m-> 1224\u001b[0m return_type \u001b[38;5;241m=\u001b[39m \u001b[43mfunc\u001b[49m\u001b[38;5;241;43m.\u001b[39;49m\u001b[43mvalue_func\u001b[49m\u001b[43m(\u001b[49m\n\u001b[0;32m   1225\u001b[0m \u001b[43m    \u001b[49m\u001b[43m{\u001b[49m\u001b[43mk\u001b[49m\u001b[43m:\u001b[49m\u001b[43m \u001b[49m\u001b[43mstrip_reference\u001b[49m\u001b[43m(\u001b[49m\u001b[43mv\u001b[49m\u001b[43m)\u001b[49m\u001b[43m \u001b[49m\u001b[38;5;28;43;01mfor\u001b[39;49;00m\u001b[43m \u001b[49m\u001b[43mk\u001b[49m\u001b[43m,\u001b[49m\u001b[43m \u001b[49m\u001b[43mv\u001b[49m\u001b[43m \u001b[49m\u001b[38;5;129;43;01min\u001b[39;49;00m\u001b[43m \u001b[49m\u001b[43mbound_arg_types\u001b[49m\u001b[38;5;241;43m.\u001b[39;49m\u001b[43mitems\u001b[49m\u001b[43m(\u001b[49m\u001b[43m)\u001b[49m\u001b[43m}\u001b[49m\u001b[43m,\u001b[49m\n\u001b[0;32m   1226\u001b[0m \u001b[43m    \u001b[49m\u001b[43mbound_arg_values\u001b[49m\u001b[43m,\u001b[49m\n\u001b[0;32m   1227\u001b[0m \u001b[43m\u001b[49m\u001b[43m)\u001b[49m\n\u001b[0;32m   1229\u001b[0m \u001b[38;5;28;01mif\u001b[39;00m func\u001b[38;5;241m.\u001b[39mdispatch_func \u001b[38;5;129;01mis\u001b[39;00m \u001b[38;5;129;01mnot\u001b[39;00m \u001b[38;5;28;01mNone\u001b[39;00m:\n\u001b[0;32m   1230\u001b[0m     \u001b[38;5;66;03m# If we have a built-in that requires special handling to dispatch\u001b[39;00m\n\u001b[0;32m   1231\u001b[0m     \u001b[38;5;66;03m# the arguments to the underlying C++ function, then we can resolve\u001b[39;00m\n\u001b[1;32m   (...)\u001b[0m\n\u001b[0;32m   1235\u001b[0m     \u001b[38;5;66;03m# for example by checking whether an argument corresponds to\u001b[39;00m\n\u001b[0;32m   1236\u001b[0m     \u001b[38;5;66;03m# a literal value or references a variable.\u001b[39;00m\n\u001b[0;32m   1238\u001b[0m     func_args, template_args \u001b[38;5;241m=\u001b[39m func\u001b[38;5;241m.\u001b[39mdispatch_func(func\u001b[38;5;241m.\u001b[39minput_types, return_type, bound_args)\n",
      "File \u001b[1;32md:\\users\\shay\\.conda\\envs\\newwarp\\lib\\site-packages\\warp\\builtins.py:940\u001b[0m, in \u001b[0;36mmatrix_value_func\u001b[1;34m(arg_types, arg_values)\u001b[0m\n\u001b[0;32m    938\u001b[0m \u001b[38;5;28;01mif\u001b[39;00m \u001b[38;5;28mall\u001b[39m(type_is_vector(x) \u001b[38;5;28;01mfor\u001b[39;00m x \u001b[38;5;129;01min\u001b[39;00m variadic_arg_types):\n\u001b[0;32m    939\u001b[0m     \u001b[38;5;28;01mif\u001b[39;00m shape[\u001b[38;5;241m1\u001b[39m] \u001b[38;5;241m!=\u001b[39m variadic_arg_count:\n\u001b[1;32m--> 940\u001b[0m         \u001b[38;5;28;01mraise\u001b[39;00m \u001b[38;5;167;01mRuntimeError\u001b[39;00m(\n\u001b[0;32m    941\u001b[0m             \u001b[38;5;124mf\u001b[39m\u001b[38;5;124m\"\u001b[39m\u001b[38;5;124mincompatible number of column vectors given (\u001b[39m\u001b[38;5;132;01m{\u001b[39;00mvariadic_arg_count\u001b[38;5;132;01m}\u001b[39;00m\u001b[38;5;124m) \u001b[39m\u001b[38;5;124m\"\u001b[39m\n\u001b[0;32m    942\u001b[0m             \u001b[38;5;124mf\u001b[39m\u001b[38;5;124m\"\u001b[39m\u001b[38;5;124mwhen constructing a matrix of shape \u001b[39m\u001b[38;5;132;01m{\u001b[39;00m\u001b[38;5;28mtuple\u001b[39m(shape)\u001b[38;5;132;01m}\u001b[39;00m\u001b[38;5;124m\"\u001b[39m\n\u001b[0;32m    943\u001b[0m         )\n\u001b[0;32m    945\u001b[0m     \u001b[38;5;28;01mif\u001b[39;00m \u001b[38;5;28many\u001b[39m(x\u001b[38;5;241m.\u001b[39m_length_ \u001b[38;5;241m!=\u001b[39m shape[\u001b[38;5;241m0\u001b[39m] \u001b[38;5;28;01mfor\u001b[39;00m x \u001b[38;5;129;01min\u001b[39;00m variadic_arg_types):\n\u001b[0;32m    946\u001b[0m         \u001b[38;5;28;01mraise\u001b[39;00m \u001b[38;5;167;01mRuntimeError\u001b[39;00m(\n\u001b[0;32m    947\u001b[0m             \u001b[38;5;124mf\u001b[39m\u001b[38;5;124m\"\u001b[39m\u001b[38;5;124mincompatible column vector lengths given when constructing a matrix of shape \u001b[39m\u001b[38;5;132;01m{\u001b[39;00m\u001b[38;5;28mtuple\u001b[39m(shape)\u001b[38;5;132;01m}\u001b[39;00m\u001b[38;5;124m\"\u001b[39m\n\u001b[0;32m    948\u001b[0m         )\n",
      "\u001b[1;31mRuntimeError\u001b[0m: Error while parsing function \"test\" at C:\\Users\\shay\\AppData\\Local\\Temp\\ipykernel_27008\\1249133514.py:13:\n    a = mat34(a0, a1, a2)\n;incompatible number of column vectors given (3) when constructing a matrix of shape (3, 4)"
     ]
    }
   ],
   "source": [
    "import warp as wp\n",
    "wp.init()\n",
    "mat34 = wp.types.matrix(shape = (3, 4), dtype = float)\n",
    "a = wp.zeros(1, dtype = mat34)\n",
    "@wp.kernel\n",
    "def test(ret: wp.array(dtype = mat34)): \n",
    "    a =  mat34(1.0, 2.0, 3.0, 4.0,\n",
    "                5.0, 6.0, 7.0, 8.0,\n",
    "                9.0, 10.0, 11.0, 12.0)\n",
    "    a0 = wp.vec4(1.0, 2.0, 3.0, 4.0)\n",
    "    a1 = wp.vec4(5.0, 6.0, 7.0, 8.0)\n",
    "    a2 = wp.vec4(9.0, 10.0, 11.0, 12.0)\n",
    "    a = mat34(a0, a1, a2)\n",
    "    print(a)\n",
    "    ret[0] = a\n",
    "\n",
    "wp.launch(test, 1, inputs = [a])\n",
    "print(a.numpy())"
   ]
  },
  {
   "cell_type": "code",
   "execution_count": 3,
   "metadata": {},
   "outputs": [],
   "source": [
    "import warp as wp\n",
    "from warp.types import vector\n",
    "wp.init()\n",
    "vec5i = vector(length = 5, dtype = int)"
   ]
  },
  {
   "cell_type": "code",
   "execution_count": 4,
   "metadata": {},
   "outputs": [
    {
     "data": {
      "text/plain": [
       "array([[[1., 2., 3.],\n",
       "        [1., 2., 3.],\n",
       "        [1., 2., 3.]]], dtype=float32)"
      ]
     },
     "execution_count": 4,
     "metadata": {},
     "output_type": "execute_result"
    }
   ],
   "source": [
    "A.numpy()"
   ]
  },
  {
   "cell_type": "code",
   "execution_count": 15,
   "metadata": {},
   "outputs": [
    {
     "data": {
      "text/plain": [
       "array([[1., 1., 1.],\n",
       "       [1., 1., 0.]], dtype=float32)"
      ]
     },
     "execution_count": 15,
     "metadata": {},
     "output_type": "execute_result"
    }
   ],
   "source": [
    "y.numpy()"
   ]
  },
  {
   "cell_type": "code",
   "execution_count": 4,
   "metadata": {},
   "outputs": [
    {
     "name": "stdout",
     "output_type": "stream",
     "text": [
      "Module __main__ 2c506af load on device 'cuda:0' took 2.77 ms  (cached)\n"
     ]
    }
   ],
   "source": [
    "import warp as wp\n",
    "\n",
    "wp.init()\n",
    "a = wp.mat33(wp.vec3(1.0), wp.vec3(2.0),wp.vec3(3.0))\n",
    "# print(a)\n",
    "# print(a[1])\n",
    "\n",
    "@wp.kernel\n",
    "def test():\n",
    "    A = wp.mat33(wp.vec3(1.0), wp.vec3(2.0),wp.vec3(3.0))\n",
    "    print(A[0])\n",
    "\n",
    "wp.launch(test,(1))"
   ]
  },
  {
   "cell_type": "code",
   "execution_count": 6,
   "metadata": {},
   "outputs": [
    {
     "name": "stdout",
     "output_type": "stream",
     "text": [
      "Module __main__ 12360c3 load on device 'cuda:0' took 0.68 ms  (cached)\n",
      "Module __main__ 12360c3 load on device 'cuda:0' took 0.76 ms  (cached)\n",
      "[[[1. 2. 3.]\n",
      "  [4. 5. 6.]\n",
      "  [7. 8. 9.]]]\n"
     ]
    }
   ],
   "source": [
    "import warp as wp\n",
    "wp.init()\n",
    "@wp.kernel\n",
    "def test(c: wp.array(dtype = wp.vec3)):\n",
    "    a = wp.vec3(1.0, 2.0, 3.0)\n",
    "    b = wp.vec3(3.0, 1.0, 2.0)\n",
    "    c[0] = (wp.max(a, b))\n",
    "\n",
    "c = wp.zeros(1, dtype = wp.vec3)\n",
    "b = wp.zeros(1, dtype = wp.mat33)\n",
    "wp.launch(test,(1), inputs = [c])\n",
    "\n",
    "@wp.kernel\n",
    "def test2(b: wp.array(dtype = wp.mat33)):\n",
    "    a = wp.mat33(1.0, 2.0, 3.0, 4.0, 5.0, 6.0, 7.0, 8.0, 9.0)\n",
    "\n",
    "    print(a)\n",
    "    b[0] = a\n",
    "# print(c.numpy())\n",
    "wp.launch(test2, (1), inputs = [b])\n",
    "print(b.numpy())"
   ]
  }
 ],
 "metadata": {
  "kernelspec": {
   "display_name": "warp",
   "language": "python",
   "name": "python3"
  },
  "language_info": {
   "codemirror_mode": {
    "name": "ipython",
    "version": 3
   },
   "file_extension": ".py",
   "mimetype": "text/x-python",
   "name": "python",
   "nbconvert_exporter": "python",
   "pygments_lexer": "ipython3",
   "version": "3.10.14"
  }
 },
 "nbformat": 4,
 "nbformat_minor": 2
}
